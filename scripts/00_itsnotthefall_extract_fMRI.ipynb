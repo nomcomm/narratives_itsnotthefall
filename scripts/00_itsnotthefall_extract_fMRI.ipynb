{
 "cells": [
  {
   "cell_type": "markdown",
   "metadata": {},
   "source": [
    "## import modules"
   ]
  },
  {
   "cell_type": "code",
   "execution_count": 1,
   "metadata": {},
   "outputs": [],
   "source": [
    "import glob \n",
    "import pandas as pd\n",
    "import matplotlib.pyplot as plt\n",
    "%matplotlib inline\n",
    "import numpy as np\n",
    "import sys, os, nilearn\n",
    "from nilearn import input_data, datasets\n",
    "from nilearn import datasets, plotting\n",
    "from nilearn.image import new_img_like, load_img, get_data\n",
    "\n"
   ]
  },
  {
   "cell_type": "markdown",
   "metadata": {},
   "source": [
    "### set up masker"
   ]
  },
  {
   "cell_type": "code",
   "execution_count": 4,
   "metadata": {},
   "outputs": [],
   "source": [
    "shen_dictionary = np.load('/Users/ralfschmaelzle/Documents/GITHUB/nomcomm/PAPERS_WORKING/NARRATIVES/data/maps/shen_dictionary.npy', allow_pickle = True).item()\n",
    "shen_file       = '/Users/ralfschmaelzle/Documents//GITHUB/nomcomm/PAPERS_WORKING/NARRATIVES/data/maps/shen_2mm_268_parcellation.nii'\n",
    "\n",
    "path_dir = \"/Users/ralfschmaelzle/Documents/GITHUB/nomcomm/PAPERS_WORKING/NARRATIVES/data/shen_ts//\"\n"
   ]
  },
  {
   "cell_type": "markdown",
   "metadata": {},
   "source": [
    "## set up files"
   ]
  },
  {
   "cell_type": "code",
   "execution_count": 27,
   "metadata": {
    "scrolled": false
   },
   "outputs": [
    {
     "name": "stdout",
     "output_type": "stream",
     "text": [
      "(400, 268)\n",
      "/Users/ralfschmaelzle/Documents/GITHUB/nomcomm/PAPERS_WORKING/NARRATIVES/data/shen_ts/sub-342_task-notthefallintact_space-MNI152NLin2009cAsym_LTR_Z_THP001_LP012_shen268.npy\n",
      "----\n",
      "(400, 268)\n",
      "/Users/ralfschmaelzle/Documents/GITHUB/nomcomm/PAPERS_WORKING/NARRATIVES/data/shen_ts/sub-328_task-notthefallintact_space-MNI152NLin2009cAsym_LTR_Z_THP001_LP012_shen268.npy\n",
      "----\n",
      "(400, 268)\n",
      "/Users/ralfschmaelzle/Documents/GITHUB/nomcomm/PAPERS_WORKING/NARRATIVES/data/shen_ts/sub-321_task-notthefallintact_space-MNI152NLin2009cAsym_LTR_Z_THP001_LP012_shen268.npy\n",
      "----\n",
      "(400, 268)\n",
      "/Users/ralfschmaelzle/Documents/GITHUB/nomcomm/PAPERS_WORKING/NARRATIVES/data/shen_ts/sub-135_task-notthefallintact_space-MNI152NLin2009cAsym_LTR_Z_THP001_LP012_shen268.npy\n",
      "----\n",
      "(400, 268)\n",
      "/Users/ralfschmaelzle/Documents/GITHUB/nomcomm/PAPERS_WORKING/NARRATIVES/data/shen_ts/sub-334_task-notthefallintact_space-MNI152NLin2009cAsym_LTR_Z_THP001_LP012_shen268.npy\n",
      "----\n",
      "(400, 268)\n",
      "/Users/ralfschmaelzle/Documents/GITHUB/nomcomm/PAPERS_WORKING/NARRATIVES/data/shen_ts/sub-066_task-notthefallintact_space-MNI152NLin2009cAsym_LTR_Z_THP001_LP012_shen268.npy\n",
      "----\n",
      "(400, 268)\n",
      "/Users/ralfschmaelzle/Documents/GITHUB/nomcomm/PAPERS_WORKING/NARRATIVES/data/shen_ts/sub-143_task-notthefallintact_space-MNI152NLin2009cAsym_LTR_Z_THP001_LP012_shen268.npy\n",
      "----\n",
      "(400, 268)\n",
      "/Users/ralfschmaelzle/Documents/GITHUB/nomcomm/PAPERS_WORKING/NARRATIVES/data/shen_ts/sub-096_task-notthefallintact_space-MNI152NLin2009cAsym_LTR_Z_THP001_LP012_shen268.npy\n",
      "----\n",
      "(400, 268)\n",
      "/Users/ralfschmaelzle/Documents/GITHUB/nomcomm/PAPERS_WORKING/NARRATIVES/data/shen_ts/sub-318_task-notthefallintact_space-MNI152NLin2009cAsym_LTR_Z_THP001_LP012_shen268.npy\n",
      "----\n",
      "(400, 268)\n",
      "/Users/ralfschmaelzle/Documents/GITHUB/nomcomm/PAPERS_WORKING/NARRATIVES/data/shen_ts/sub-339_task-notthefallintact_space-MNI152NLin2009cAsym_LTR_Z_THP001_LP012_shen268.npy\n",
      "----\n",
      "(400, 268)\n",
      "/Users/ralfschmaelzle/Documents/GITHUB/nomcomm/PAPERS_WORKING/NARRATIVES/data/shen_ts/sub-330_task-notthefallintact_space-MNI152NLin2009cAsym_LTR_Z_THP001_LP012_shen268.npy\n",
      "----\n",
      "(400, 268)\n",
      "/Users/ralfschmaelzle/Documents/GITHUB/nomcomm/PAPERS_WORKING/NARRATIVES/data/shen_ts/sub-325_task-notthefallintact_space-MNI152NLin2009cAsym_LTR_Z_THP001_LP012_shen268.npy\n",
      "----\n",
      "(400, 268)\n",
      "/Users/ralfschmaelzle/Documents/GITHUB/nomcomm/PAPERS_WORKING/NARRATIVES/data/shen_ts/sub-316_task-notthefallintact_space-MNI152NLin2009cAsym_LTR_Z_THP001_LP012_shen268.npy\n",
      "----\n",
      "(400, 268)\n",
      "/Users/ralfschmaelzle/Documents/GITHUB/nomcomm/PAPERS_WORKING/NARRATIVES/data/shen_ts/sub-337_task-notthefallintact_space-MNI152NLin2009cAsym_LTR_Z_THP001_LP012_shen268.npy\n",
      "----\n",
      "(400, 268)\n",
      "/Users/ralfschmaelzle/Documents/GITHUB/nomcomm/PAPERS_WORKING/NARRATIVES/data/shen_ts/sub-065_task-notthefallintact_space-MNI152NLin2009cAsym_LTR_Z_THP001_LP012_shen268.npy\n",
      "----\n",
      "(400, 268)\n",
      "/Users/ralfschmaelzle/Documents/GITHUB/nomcomm/PAPERS_WORKING/NARRATIVES/data/shen_ts/sub-195_task-notthefallintact_space-MNI152NLin2009cAsym_LTR_Z_THP001_LP012_shen268.npy\n",
      "----\n",
      "(400, 268)\n",
      "/Users/ralfschmaelzle/Documents/GITHUB/nomcomm/PAPERS_WORKING/NARRATIVES/data/shen_ts/sub-140_task-notthefallintact_space-MNI152NLin2009cAsym_LTR_Z_THP001_LP012_shen268.npy\n",
      "----\n",
      "(400, 268)\n",
      "/Users/ralfschmaelzle/Documents/GITHUB/nomcomm/PAPERS_WORKING/NARRATIVES/data/shen_ts/sub-341_task-notthefallintact_space-MNI152NLin2009cAsym_LTR_Z_THP001_LP012_shen268.npy\n",
      "----\n",
      "(400, 268)\n",
      "/Users/ralfschmaelzle/Documents/GITHUB/nomcomm/PAPERS_WORKING/NARRATIVES/data/shen_ts/sub-322_task-notthefallintact_space-MNI152NLin2009cAsym_LTR_Z_THP001_LP012_shen268.npy\n",
      "----\n",
      "(400, 268)\n",
      "/Users/ralfschmaelzle/Documents/GITHUB/nomcomm/PAPERS_WORKING/NARRATIVES/data/shen_ts/sub-136_task-notthefallintact_space-MNI152NLin2009cAsym_LTR_Z_THP001_LP012_shen268.npy\n",
      "----\n",
      "(400, 268)\n",
      "/Users/ralfschmaelzle/Documents/GITHUB/nomcomm/PAPERS_WORKING/NARRATIVES/data/shen_ts/sub-084_task-notthefallintact_space-MNI152NLin2009cAsym_LTR_Z_THP001_LP012_shen268.npy\n",
      "----\n",
      "(400, 268)\n",
      "/Users/ralfschmaelzle/Documents/GITHUB/nomcomm/PAPERS_WORKING/NARRATIVES/data/shen_ts/sub-089_task-notthefallintact_space-MNI152NLin2009cAsym_LTR_Z_THP001_LP012_shen268.npy\n",
      "----\n",
      "(400, 268)\n",
      "/Users/ralfschmaelzle/Documents/GITHUB/nomcomm/PAPERS_WORKING/NARRATIVES/data/shen_ts/sub-132_task-notthefallintact_space-MNI152NLin2009cAsym_LTR_Z_THP001_LP012_shen268.npy\n",
      "----\n",
      "(400, 268)\n",
      "/Users/ralfschmaelzle/Documents/GITHUB/nomcomm/PAPERS_WORKING/NARRATIVES/data/shen_ts/sub-326_task-notthefallintact_space-MNI152NLin2009cAsym_LTR_Z_THP001_LP012_shen268.npy\n",
      "----\n",
      "(400, 268)\n",
      "/Users/ralfschmaelzle/Documents/GITHUB/nomcomm/PAPERS_WORKING/NARRATIVES/data/shen_ts/sub-345_task-notthefallintact_space-MNI152NLin2009cAsym_LTR_Z_THP001_LP012_shen268.npy\n",
      "----\n",
      "(400, 268)\n",
      "/Users/ralfschmaelzle/Documents/GITHUB/nomcomm/PAPERS_WORKING/NARRATIVES/data/shen_ts/sub-106_task-notthefallintact_space-MNI152NLin2009cAsym_LTR_Z_THP001_LP012_shen268.npy\n",
      "----\n",
      "(400, 268)\n",
      "/Users/ralfschmaelzle/Documents/GITHUB/nomcomm/PAPERS_WORKING/NARRATIVES/data/shen_ts/sub-095_task-notthefallintact_space-MNI152NLin2009cAsym_LTR_Z_THP001_LP012_shen268.npy\n",
      "----\n",
      "(400, 268)\n",
      "/Users/ralfschmaelzle/Documents/GITHUB/nomcomm/PAPERS_WORKING/NARRATIVES/data/shen_ts/sub-144_task-notthefallintact_space-MNI152NLin2009cAsym_LTR_Z_THP001_LP012_shen268.npy\n",
      "----\n",
      "(400, 268)\n",
      "/Users/ralfschmaelzle/Documents/GITHUB/nomcomm/PAPERS_WORKING/NARRATIVES/data/shen_ts/sub-333_task-notthefallintact_space-MNI152NLin2009cAsym_LTR_Z_THP001_LP012_shen268.npy\n",
      "----\n",
      "(400, 268)\n",
      "/Users/ralfschmaelzle/Documents/GITHUB/nomcomm/PAPERS_WORKING/NARRATIVES/data/shen_ts/sub-141_task-notthefallintact_space-MNI152NLin2009cAsym_LTR_Z_THP001_LP012_shen268.npy\n",
      "----\n",
      "(400, 268)\n",
      "/Users/ralfschmaelzle/Documents/GITHUB/nomcomm/PAPERS_WORKING/NARRATIVES/data/shen_ts/sub-336_task-notthefallintact_space-MNI152NLin2009cAsym_LTR_Z_THP001_LP012_shen268.npy\n",
      "----\n",
      "(400, 268)\n",
      "/Users/ralfschmaelzle/Documents/GITHUB/nomcomm/PAPERS_WORKING/NARRATIVES/data/shen_ts/sub-137_task-notthefallintact_space-MNI152NLin2009cAsym_LTR_Z_THP001_LP012_shen268.npy\n",
      "----\n",
      "(400, 268)\n",
      "/Users/ralfschmaelzle/Documents/GITHUB/nomcomm/PAPERS_WORKING/NARRATIVES/data/shen_ts/sub-323_task-notthefallintact_space-MNI152NLin2009cAsym_LTR_Z_THP001_LP012_shen268.npy\n",
      "----\n",
      "(400, 268)\n",
      "/Users/ralfschmaelzle/Documents/GITHUB/nomcomm/PAPERS_WORKING/NARRATIVES/data/shen_ts/sub-340_task-notthefallintact_space-MNI152NLin2009cAsym_LTR_Z_THP001_LP012_shen268.npy\n",
      "----\n",
      "(400, 268)\n",
      "/Users/ralfschmaelzle/Documents/GITHUB/nomcomm/PAPERS_WORKING/NARRATIVES/data/shen_ts/sub-344_task-notthefallintact_space-MNI152NLin2009cAsym_LTR_Z_THP001_LP012_shen268.npy\n",
      "----\n",
      "(400, 268)\n",
      "/Users/ralfschmaelzle/Documents/GITHUB/nomcomm/PAPERS_WORKING/NARRATIVES/data/shen_ts/sub-327_task-notthefallintact_space-MNI152NLin2009cAsym_LTR_Z_THP001_LP012_shen268.npy\n",
      "----\n",
      "(400, 268)\n",
      "/Users/ralfschmaelzle/Documents/GITHUB/nomcomm/PAPERS_WORKING/NARRATIVES/data/shen_ts/sub-016_task-notthefallintact_space-MNI152NLin2009cAsym_LTR_Z_THP001_LP012_shen268.npy\n",
      "----\n",
      "(400, 268)\n",
      "/Users/ralfschmaelzle/Documents/GITHUB/nomcomm/PAPERS_WORKING/NARRATIVES/data/shen_ts/sub-268_task-notthefallintact_space-MNI152NLin2009cAsym_LTR_Z_THP001_LP012_shen268.npy\n",
      "----\n",
      "(400, 268)\n",
      "/Users/ralfschmaelzle/Documents/GITHUB/nomcomm/PAPERS_WORKING/NARRATIVES/data/shen_ts/sub-133_task-notthefallintact_space-MNI152NLin2009cAsym_LTR_Z_THP001_LP012_shen268.npy\n",
      "----\n",
      "(400, 268)\n",
      "/Users/ralfschmaelzle/Documents/GITHUB/nomcomm/PAPERS_WORKING/NARRATIVES/data/shen_ts/sub-332_task-notthefallintact_space-MNI152NLin2009cAsym_LTR_Z_THP001_LP012_shen268.npy\n",
      "----\n",
      "(400, 268)\n",
      "/Users/ralfschmaelzle/Documents/GITHUB/nomcomm/PAPERS_WORKING/NARRATIVES/data/shen_ts/sub-199_task-notthefallintact_space-MNI152NLin2009cAsym_LTR_Z_THP001_LP012_shen268.npy\n",
      "----\n",
      "(400, 268)\n",
      "/Users/ralfschmaelzle/Documents/GITHUB/nomcomm/PAPERS_WORKING/NARRATIVES/data/shen_ts/sub-145_task-notthefallintact_space-MNI152NLin2009cAsym_LTR_Z_THP001_LP012_shen268.npy\n",
      "----\n",
      "(400, 268)\n",
      "/Users/ralfschmaelzle/Documents/GITHUB/nomcomm/PAPERS_WORKING/NARRATIVES/data/shen_ts/sub-134_task-notthefallintact_space-MNI152NLin2009cAsym_LTR_Z_THP001_LP012_shen268.npy\n",
      "----\n",
      "(400, 268)\n",
      "/Users/ralfschmaelzle/Documents/GITHUB/nomcomm/PAPERS_WORKING/NARRATIVES/data/shen_ts/sub-320_task-notthefallintact_space-MNI152NLin2009cAsym_LTR_Z_THP001_LP012_shen268.npy\n",
      "----\n",
      "(400, 268)\n",
      "/Users/ralfschmaelzle/Documents/GITHUB/nomcomm/PAPERS_WORKING/NARRATIVES/data/shen_ts/sub-329_task-notthefallintact_space-MNI152NLin2009cAsym_LTR_Z_THP001_LP012_shen268.npy\n",
      "----\n",
      "(400, 268)\n",
      "/Users/ralfschmaelzle/Documents/GITHUB/nomcomm/PAPERS_WORKING/NARRATIVES/data/shen_ts/sub-343_task-notthefallintact_space-MNI152NLin2009cAsym_LTR_Z_THP001_LP012_shen268.npy\n",
      "----\n",
      "(400, 268)\n",
      "/Users/ralfschmaelzle/Documents/GITHUB/nomcomm/PAPERS_WORKING/NARRATIVES/data/shen_ts/sub-142_task-notthefallintact_space-MNI152NLin2009cAsym_LTR_Z_THP001_LP012_shen268.npy\n",
      "----\n",
      "(400, 268)\n",
      "/Users/ralfschmaelzle/Documents/GITHUB/nomcomm/PAPERS_WORKING/NARRATIVES/data/shen_ts/sub-331_task-notthefallintact_space-MNI152NLin2009cAsym_LTR_Z_THP001_LP012_shen268.npy\n",
      "----\n",
      "(400, 268)\n",
      "/Users/ralfschmaelzle/Documents/GITHUB/nomcomm/PAPERS_WORKING/NARRATIVES/data/shen_ts/sub-338_task-notthefallintact_space-MNI152NLin2009cAsym_LTR_Z_THP001_LP012_shen268.npy\n",
      "----\n",
      "(400, 268)\n",
      "/Users/ralfschmaelzle/Documents/GITHUB/nomcomm/PAPERS_WORKING/NARRATIVES/data/shen_ts/sub-319_task-notthefallintact_space-MNI152NLin2009cAsym_LTR_Z_THP001_LP012_shen268.npy\n",
      "----\n",
      "(400, 268)\n",
      "/Users/ralfschmaelzle/Documents/GITHUB/nomcomm/PAPERS_WORKING/NARRATIVES/data/shen_ts/sub-324_task-notthefallintact_space-MNI152NLin2009cAsym_LTR_Z_THP001_LP012_shen268.npy\n",
      "----\n",
      "(400, 268)\n",
      "/Users/ralfschmaelzle/Documents/GITHUB/nomcomm/PAPERS_WORKING/NARRATIVES/data/shen_ts/sub-034_task-notthefallintact_space-MNI152NLin2009cAsym_LTR_Z_THP001_LP012_shen268.npy\n",
      "----\n",
      "(400, 268)\n",
      "/Users/ralfschmaelzle/Documents/GITHUB/nomcomm/PAPERS_WORKING/NARRATIVES/data/shen_ts/sub-111_task-notthefallintact_space-MNI152NLin2009cAsym_LTR_Z_THP001_LP012_shen268.npy\n",
      "----\n",
      "(400, 268)\n",
      "/Users/ralfschmaelzle/Documents/GITHUB/nomcomm/PAPERS_WORKING/NARRATIVES/data/shen_ts/sub-139_task-notthefallintact_space-MNI152NLin2009cAsym_LTR_Z_THP001_LP012_shen268.npy\n",
      "----\n"
     ]
    }
   ],
   "source": [
    "task_list = [   '-notthefallintact_space-MNI152NLin2009cAsym',             #  68\n",
    "                # The Moth\n",
    "                # 7:30 \n",
    "                ]           \n",
    "\n",
    "ns = [] \n",
    "res = []\n",
    "storyisc = []\n",
    "for curr_task in task_list[:]:\n",
    "    #print(curr_task)\n",
    "    search_path = path_dir + \"/*\" + str(curr_task) + \"_LTR_Z_THP001_LP012_shen268.npy\"\n",
    "    #print(search_path)\n",
    "\n",
    "    ts_files = glob.glob(search_path)\n",
    "    #print(ts_files)\n",
    "    \n",
    "    ts_data = []\n",
    "    for i in range(len(ts_files)):\n",
    "        ts_data.append(np.load(ts_files[i])[3:(3+602+17),:])\n",
    "        print(np.load(ts_files[i]).shape)\n",
    "        print((ts_files[i]))\n",
    "        print('----')\n",
    "\n",
    "        \n",
    "    ts_data = np.asarray(ts_data);\n",
    "\n",
    "\n",
    "    "
   ]
  },
  {
   "cell_type": "code",
   "execution_count": 28,
   "metadata": {},
   "outputs": [
    {
     "data": {
      "text/plain": [
       "(54, 397, 268)"
      ]
     },
     "execution_count": 28,
     "metadata": {},
     "output_type": "execute_result"
    }
   ],
   "source": [
    "ts_data.shape\n",
    "\n"
   ]
  },
  {
   "cell_type": "code",
   "execution_count": 29,
   "metadata": {},
   "outputs": [
    {
     "data": {
      "text/plain": [
       "595.5"
      ]
     },
     "execution_count": 29,
     "metadata": {},
     "output_type": "execute_result"
    }
   ],
   "source": [
    "397*1.5"
   ]
  },
  {
   "cell_type": "code",
   "execution_count": 30,
   "metadata": {},
   "outputs": [
    {
     "data": {
      "text/plain": [
       "540"
      ]
     },
     "execution_count": 30,
     "metadata": {},
     "output_type": "execute_result"
    }
   ],
   "source": [
    "60*9 "
   ]
  },
  {
   "cell_type": "code",
   "execution_count": 31,
   "metadata": {},
   "outputs": [
    {
     "data": {
      "text/plain": [
       "55.5"
      ]
     },
     "execution_count": 31,
     "metadata": {},
     "output_type": "execute_result"
    }
   ],
   "source": [
    "595.5 - 540"
   ]
  },
  {
   "cell_type": "code",
   "execution_count": 32,
   "metadata": {},
   "outputs": [
    {
     "data": {
      "text/plain": [
       "581"
      ]
     },
     "execution_count": 32,
     "metadata": {},
     "output_type": "execute_result"
    }
   ],
   "source": [
    "60*9 + 41"
   ]
  },
  {
   "cell_type": "code",
   "execution_count": 33,
   "metadata": {},
   "outputs": [
    {
     "data": {
      "text/plain": [
       "382.0"
      ]
     },
     "execution_count": 33,
     "metadata": {},
     "output_type": "execute_result"
    }
   ],
   "source": [
    "573/1.5"
   ]
  },
  {
   "cell_type": "code",
   "execution_count": 34,
   "metadata": {},
   "outputs": [
    {
     "data": {
      "text/plain": [
       "364.6666666666667"
      ]
     },
     "execution_count": 34,
     "metadata": {},
     "output_type": "execute_result"
    }
   ],
   "source": [
    "547/1.5"
   ]
  },
  {
   "cell_type": "code",
   "execution_count": 35,
   "metadata": {},
   "outputs": [
    {
     "data": {
      "text/plain": [
       "6.666666666666667"
      ]
     },
     "execution_count": 35,
     "metadata": {},
     "output_type": "execute_result"
    }
   ],
   "source": [
    "10/1.5"
   ]
  },
  {
   "cell_type": "code",
   "execution_count": 36,
   "metadata": {},
   "outputs": [
    {
     "data": {
      "text/plain": [
       "16.666666666666668"
      ]
     },
     "execution_count": 36,
     "metadata": {},
     "output_type": "execute_result"
    }
   ],
   "source": [
    "25/1.5"
   ]
  },
  {
   "cell_type": "code",
   "execution_count": 37,
   "metadata": {},
   "outputs": [
    {
     "data": {
      "text/plain": [
       "388.00000000000006"
      ]
     },
     "execution_count": 37,
     "metadata": {},
     "output_type": "execute_result"
    }
   ],
   "source": [
    "364.6666666666667 + 6.666666666666667 +16.666666666666668"
   ]
  },
  {
   "cell_type": "markdown",
   "metadata": {},
   "source": [
    "All three versions of the “It’s Not the Fall that Gets You” stimulus were 582 seconds (9.7 minutes) long and began\n",
    "with 22 seconds of neutral introductory music followed by 3 seconds of silence such that the story started at 0:25\n",
    "(relative to the beginning of the stimulus fle) and ended at 9:32 for a duration of 547 seconds (365 TRs), with\n",
    "10 seconds of silence at the end of the stimulus. Te stimulus fle was started afer 3 TRs (4.5 seconds) as indicated\n",
    "in the events.tsv fles accompanying each scan. Te functional scans comprised 400 TRs (600 seconds). Te\n",
    "transcript for the intact stimulus contains 1,601 words total; 40 words (2.5%) were not successfully localized\n",
    "by the forced-alignment algorithm and 20 words (1.2%) were not found in the vocabulary."
   ]
  },
  {
   "cell_type": "code",
   "execution_count": 38,
   "metadata": {},
   "outputs": [
    {
     "data": {
      "text/plain": [
       "(54, 388, 268)"
      ]
     },
     "execution_count": 38,
     "metadata": {},
     "output_type": "execute_result"
    }
   ],
   "source": [
    "ts_data = ts_data[:,:388,:]\n",
    "ts_data.shape"
   ]
  },
  {
   "cell_type": "code",
   "execution_count": 39,
   "metadata": {},
   "outputs": [
    {
     "data": {
      "text/plain": [
       "582.0"
      ]
     },
     "execution_count": 39,
     "metadata": {},
     "output_type": "execute_result"
    }
   ],
   "source": [
    "388*1.5"
   ]
  },
  {
   "cell_type": "code",
   "execution_count": 41,
   "metadata": {},
   "outputs": [],
   "source": [
    "np.save('/Users/ralfschmaelzle/Documents/GITHUB/nomcomm/PAPERS_WORKING/NARRATIVES/fmri_data_itsnotthefall.npy', ts_data)"
   ]
  },
  {
   "cell_type": "code",
   "execution_count": 54,
   "metadata": {},
   "outputs": [
    {
     "data": {
      "text/html": [
       "<div>\n",
       "<style scoped>\n",
       "    .dataframe tbody tr th:only-of-type {\n",
       "        vertical-align: middle;\n",
       "    }\n",
       "\n",
       "    .dataframe tbody tr th {\n",
       "        vertical-align: top;\n",
       "    }\n",
       "\n",
       "    .dataframe thead th {\n",
       "        text-align: right;\n",
       "    }\n",
       "</style>\n",
       "<table border=\"1\" class=\"dataframe\">\n",
       "  <thead>\n",
       "    <tr style=\"text-align: right;\">\n",
       "      <th></th>\n",
       "      <th>word</th>\n",
       "      <th>worldlc</th>\n",
       "      <th>onset</th>\n",
       "      <th>offset</th>\n",
       "    </tr>\n",
       "  </thead>\n",
       "  <tbody>\n",
       "    <tr>\n",
       "      <th>0</th>\n",
       "      <td>So</td>\n",
       "      <td>so</td>\n",
       "      <td>3.590000</td>\n",
       "      <td>3.610000</td>\n",
       "    </tr>\n",
       "    <tr>\n",
       "      <th>1</th>\n",
       "      <td>I’m</td>\n",
       "      <td>i'm</td>\n",
       "      <td>25.910000</td>\n",
       "      <td>26.140000</td>\n",
       "    </tr>\n",
       "    <tr>\n",
       "      <th>2</th>\n",
       "      <td>um</td>\n",
       "      <td>um</td>\n",
       "      <td>26.139999</td>\n",
       "      <td>26.679999</td>\n",
       "    </tr>\n",
       "    <tr>\n",
       "      <th>3</th>\n",
       "      <td>five</td>\n",
       "      <td>five</td>\n",
       "      <td>27.050000</td>\n",
       "      <td>27.360000</td>\n",
       "    </tr>\n",
       "    <tr>\n",
       "      <th>4</th>\n",
       "      <td>thousand</td>\n",
       "      <td>thousand</td>\n",
       "      <td>27.360000</td>\n",
       "      <td>27.670000</td>\n",
       "    </tr>\n",
       "  </tbody>\n",
       "</table>\n",
       "</div>"
      ],
      "text/plain": [
       "       word   worldlc      onset     offset\n",
       "0        So        so   3.590000   3.610000\n",
       "1       I’m       i'm  25.910000  26.140000\n",
       "2        um        um  26.139999  26.679999\n",
       "3      five      five  27.050000  27.360000\n",
       "4  thousand  thousand  27.360000  27.670000"
      ]
     },
     "execution_count": 54,
     "metadata": {},
     "output_type": "execute_result"
    }
   ],
   "source": [
    "word_times_file = pd.read_csv('/Users/ralfschmaelzle/Documents/GITHUB/nomcomm/PAPERS_WORKING/NARRATIVES/gentle/notthefallintact/align.csv',\n",
    "                             header = None, names = ['word', 'worldlc', 'onset', 'offset'])\n",
    "word_times_file.head()\n"
   ]
  },
  {
   "cell_type": "code",
   "execution_count": 49,
   "metadata": {},
   "outputs": [
    {
     "data": {
      "text/plain": [
       "'sub-342'"
      ]
     },
     "execution_count": 49,
     "metadata": {},
     "output_type": "execute_result"
    }
   ],
   "source": [
    "ts_files[0][86:93]"
   ]
  },
  {
   "cell_type": "code",
   "execution_count": 50,
   "metadata": {},
   "outputs": [
    {
     "name": "stdout",
     "output_type": "stream",
     "text": [
      "['sub-342', 'sub-328', 'sub-321', 'sub-135', 'sub-334', 'sub-066', 'sub-143', 'sub-096', 'sub-318', 'sub-339', 'sub-330', 'sub-325', 'sub-316', 'sub-337', 'sub-065', 'sub-195', 'sub-140', 'sub-341', 'sub-322', 'sub-136', 'sub-084', 'sub-089', 'sub-132', 'sub-326', 'sub-345', 'sub-106', 'sub-095', 'sub-144', 'sub-333', 'sub-141', 'sub-336', 'sub-137', 'sub-323', 'sub-340', 'sub-344', 'sub-327', 'sub-016', 'sub-268', 'sub-133', 'sub-332', 'sub-199', 'sub-145', 'sub-134', 'sub-320', 'sub-329', 'sub-343', 'sub-142', 'sub-331', 'sub-338', 'sub-319', 'sub-324', 'sub-034', 'sub-111', 'sub-139']\n"
     ]
    }
   ],
   "source": [
    " \n",
    "matches = []\n",
    " \n",
    "for match in ts_files:\n",
    "        matches.append(match[86:93])\n",
    " \n",
    "print(matches)"
   ]
  },
  {
   "cell_type": "code",
   "execution_count": 51,
   "metadata": {},
   "outputs": [
    {
     "data": {
      "text/plain": [
       "54"
      ]
     },
     "execution_count": 51,
     "metadata": {},
     "output_type": "execute_result"
    }
   ],
   "source": [
    "len(matches)"
   ]
  },
  {
   "cell_type": "code",
   "execution_count": 52,
   "metadata": {},
   "outputs": [],
   "source": [
    "participants = pd.DataFrame(matches, columns = ['participant_id'])"
   ]
  },
  {
   "cell_type": "code",
   "execution_count": 53,
   "metadata": {},
   "outputs": [],
   "source": [
    "participants.to_csv('/Users/ralfschmaelzle/Documents/GITHUB/nomcomm/PAPERS_WORKING/NARRATIVES/itsnotthefall_participants.csv')"
   ]
  },
  {
   "cell_type": "code",
   "execution_count": null,
   "metadata": {},
   "outputs": [],
   "source": []
  }
 ],
 "metadata": {
  "kernelspec": {
   "display_name": "Python 3",
   "language": "python",
   "name": "python3"
  },
  "language_info": {
   "codemirror_mode": {
    "name": "ipython",
    "version": 3
   },
   "file_extension": ".py",
   "mimetype": "text/x-python",
   "name": "python",
   "nbconvert_exporter": "python",
   "pygments_lexer": "ipython3",
   "version": "3.6.7"
  }
 },
 "nbformat": 4,
 "nbformat_minor": 4
}
